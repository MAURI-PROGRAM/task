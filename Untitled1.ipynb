{
 "cells": [
  {
   "cell_type": "code",
   "execution_count": 7,
   "metadata": {},
   "outputs": [
    {
     "name": "stdout",
     "output_type": "stream",
     "text": [
      "001 Title1 Author1 Edition1 Editorial1\n",
      "002 Title2 Author2 Edition2 Editorial2\n",
      "003 Title3 Author3 Edition3 Editorial3\n",
      "\n"
     ]
    }
   ],
   "source": [
    "class Book(object):\n",
    "    def __init__(self, idbook, title, author, edition,  editorial):\n",
    "        self.idbook = idbook\n",
    "        self.title = title\n",
    "        self.author = author\n",
    "        self.edition = edition\n",
    "        self.editorial = editorial\n",
    " \n",
    "    def __str__(self):\n",
    "        return \"%s %s %s %s %s\" % (self.idbook, self.title, self.author, self.edition, self.editorial)\n",
    " \n",
    "    def __getattribute__(self, attr):\n",
    "        return object.__getattribute__(self, attr)\n",
    "    \n",
    "class BookManager:\n",
    "    def __init__(self):\n",
    "        self.book_list = []\n",
    " \n",
    "    def append(self, idbook, title, author, edition,  editorial):\n",
    "        book = Book(idbook, title, author, edition,  editorial)\n",
    "        self.book_list.append(book)\n",
    " \n",
    "    def search(self, key, by=\"idbook\"):\n",
    "        for index, book in enumerate(self.book_list):\n",
    "            if book.__getattribute__(by) == key:\n",
    "                return index\n",
    " \n",
    "    def remove(self, key, by=\"idbook\"):\n",
    "        index = self.search(key)\n",
    "        if index != None:\n",
    "            self.book_list.pop(index)\n",
    "            return index\n",
    " \n",
    "    def __str__(self):\n",
    "        s = \"\"\n",
    "        for book in self.book_list:\n",
    "            s += str(book) + '\\n'\n",
    "        return s\n",
    " \n",
    "#Ejemplo:\n",
    "bm = BookManager()\n",
    " \n",
    "bm.append(\"001\", \"Title1\", \"Author1\", \"Edition1\", \"Editorial1\")\n",
    "bm.append(\"002\", \"Title2\", \"Author2\", \"Edition2\", \"Editorial2\")\n",
    "bm.append(\"003\", \"Title3\", \"Author3\", \"Edition3\", \"Editorial3\")\n",
    "bm.append(\"004\", \"Title4\", \"Author4\", \"Edition4\", \"Editorial4\")\n",
    "bm.append(\"005\", \"Title5\", \"Author5\", \"Edition5\", \"Editorial5\")\n",
    " \n",
    "bm.search(\"000\")\n",
    "bm.search(\"001\")\n",
    " \n",
    "bm.remove(\"004\")\n",
    "bm.remove(\"005\")\n",
    " \n",
    "print(bm)"
   ]
  },
  {
   "cell_type": "code",
   "execution_count": 3,
   "metadata": {},
   "outputs": [
    {
     "data": {
      "text/plain": [
       "__main__.BookManager"
      ]
     },
     "execution_count": 3,
     "metadata": {},
     "output_type": "execute_result"
    }
   ],
   "source": [
    "type(bm)"
   ]
  },
  {
   "cell_type": "code",
   "execution_count": 93,
   "metadata": {},
   "outputs": [
    {
     "data": {
      "text/plain": [
       "['for2', 'for3']"
      ]
     },
     "execution_count": 93,
     "metadata": {},
     "output_type": "execute_result"
    }
   ],
   "source": [
    "l=list(['for1','for2','for3','for4'])\n",
    "a = iter(l)\n",
    "next(a)\n",
    "list(a)[:-1]"
   ]
  },
  {
   "cell_type": "code",
   "execution_count": 71,
   "metadata": {},
   "outputs": [],
   "source": [
    "def depFor1(archivo):\n",
    "    newLineas=archivo.copy()\n",
    "    lineas=iter(archivo)\n",
    "    citer=0\n",
    "    countSpace = lambda x:(x.index(x.replace(' ','')[0]))\n",
    "    arrMax=[0]\n",
    "    arr=[]\n",
    "    for linea in lineas:\n",
    "        citer=citer+1\n",
    "        wordFor='for'\n",
    "        wordEnd=':'\n",
    "        space = countSpace(linea)\n",
    "        patronFor=((wordFor in linea) and (wordEnd in linea))\n",
    "        if patronFor:\n",
    "            newLines=[]\n",
    "            for i in range(citer,len(newLineas)):\n",
    "                endLine = citer+1==len(newLineas)\n",
    "                forSpace = False\n",
    "                if not endLine:\n",
    "                    nextspaceLine = countSpace(newLineas[citer])\n",
    "                    forSpace = nextspaceLine<=space\n",
    "                else:\n",
    "                    try:\n",
    "                        newLines.append(next(lineas))\n",
    "                    except:\n",
    "                        pass\n",
    "                if forSpace or endLine:\n",
    "                    value,arr=depFor1(newLines)\n",
    "                    arrMax.append(value)\n",
    "                    break\n",
    "                else:\n",
    "                    try:\n",
    "                        newLines.append(next(lineas))\n",
    "                        citer=citer+1\n",
    "                    except:\n",
    "                        pass\n",
    "    return(max(arrMax)+1,arrMax)"
   ]
  },
  {
   "cell_type": "code",
   "execution_count": 73,
   "metadata": {},
   "outputs": [
    {
     "name": "stdout",
     "output_type": "stream",
     "text": [
      "(6, [0, 5])\n"
     ]
    }
   ],
   "source": [
    "lineas=[]\n",
    "lineas.append('  for firs:')\n",
    "lineas.append('   for segond1:')\n",
    "lineas.append('    for segond2:')\n",
    "lineas.append('     for segond3:')\n",
    "lineas.append('      for segond4:')\n",
    "lineas.append('       sdf')\n",
    "# lineas.append(' if:')\n",
    "# lineas.append('     for 1indefif:')\n",
    "# lineas.append('      for 2indef:')\n",
    "# lineas.append('       for 3indef:')\n",
    "# lineas.append('        for 4indef:')\n",
    "# lineas.append('          sdf')\n",
    "# lineas.append('     IF 4indef:')\n",
    "# lineas.append('        for 5indef:')\n",
    "# lineas.append('         asdsf')\n",
    "# lineas.append('        for 6indef:')\n",
    "# lineas.append('         for 7indef:')\n",
    "# lineas.append('          for 7indef:')\n",
    "# lineas.append('            sdf')\n",
    "newlineasIter=depFor1(lineas)\n",
    "print(newlineasIter)"
   ]
  },
  {
   "cell_type": "code",
   "execution_count": 378,
   "metadata": {},
   "outputs": [],
   "source": [
    "def findFor(archivo):\n",
    "    newLineas=archivo.copy()\n",
    "    lineas=iter(archivo)\n",
    "    citer=0\n",
    "    countSpace = lambda x:(x.index(x.replace(' ','')[0]))\n",
    "    arrMax=[]\n",
    "    arr=[]\n",
    "    for linea in lineas:\n",
    "        citer=citer+1\n",
    "        wordFor='for'\n",
    "        wordEnd=':'\n",
    "        space = countSpace(linea)\n",
    "        patronFor=((wordFor in linea) and (wordEnd in linea))\n",
    "        if patronFor:\n",
    "            newLines=[]\n",
    "            newLines.append(linea)\n",
    "            for i in range(citer,len(newLineas)):\n",
    "                endLine = citer==len(newLineas)-1\n",
    "                forSpace = False\n",
    "                if not endLine:\n",
    "                    nextspaceLine = countSpace(newLineas[citer])\n",
    "                    forSpace = nextspaceLine<=space\n",
    "                if forSpace or endLine:\n",
    "                    arrMax.append(depFor(newLines))\n",
    "                    break\n",
    "                else:\n",
    "                    try:\n",
    "                        newLines.append(next(lineas))\n",
    "                        citer=citer+1\n",
    "                    except:\n",
    "                        print('se acabo')\n",
    "    return(arrMax)"
   ]
  },
  {
   "cell_type": "code",
   "execution_count": 377,
   "metadata": {},
   "outputs": [],
   "source": [
    "##funcionando\n",
    "def depFor(archivo):\n",
    "    newLineas=archivo.copy()\n",
    "    lineas=iter(archivo)\n",
    "    next(lineas)\n",
    "    citer=0\n",
    "    countSpace = lambda x:(x.index(x.replace(' ','')[0]))\n",
    "    arrMax=[0]\n",
    "    arr=[]\n",
    "    for linea in lineas:\n",
    "        citer=citer+1\n",
    "        wordFor='for'\n",
    "        wordEnd=':'\n",
    "        space = countSpace(linea)\n",
    "        patronFor=((wordFor in linea) and (wordEnd in linea))\n",
    "        if patronFor:\n",
    "            newLines=[]\n",
    "            newLines.append(linea)\n",
    "            for i in range(citer+1,len(newLineas)+1):\n",
    "                endLine = citer==len(newLineas)-1\n",
    "                forSpace = False\n",
    "                if not endLine:\n",
    "                    nextspaceLine = countSpace(newLineas[citer+1])\n",
    "                    forSpace = nextspaceLine<=space\n",
    "                if forSpace or endLine:\n",
    "                    arrMax.append(depFor(newLines))\n",
    "                    break\n",
    "                else:\n",
    "                    try:\n",
    "                        newLines.append(next(lineas))\n",
    "                        citer=citer+1\n",
    "                    except:\n",
    "                        print('se acabo')\n",
    "    return(max(arrMax)+1)"
   ]
  },
  {
   "cell_type": "code",
   "execution_count": null,
   "metadata": {},
   "outputs": [],
   "source": []
  },
  {
   "cell_type": "code",
   "execution_count": 81,
   "metadata": {},
   "outputs": [
    {
     "name": "stdout",
     "output_type": "stream",
     "text": [
      "1\n",
      "2\n",
      "3\n",
      "4\n",
      "5\n"
     ]
    }
   ],
   "source": [
    "arr=[1,2,3,4,5]\n",
    "len(arr)\n",
    "citer=0\n",
    "for i in range(0,len(arr)):\n",
    "    print(arr[i])"
   ]
  },
  {
   "cell_type": "code",
   "execution_count": 85,
   "metadata": {},
   "outputs": [
    {
     "name": "stdout",
     "output_type": "stream",
     "text": [
      "4\n"
     ]
    }
   ],
   "source": [
    "findspace = lambda x:(x.index(x.replace(' ','')[0]))\n",
    "print(findspace('    hola'))"
   ]
  },
  {
   "cell_type": "code",
   "execution_count": null,
   "metadata": {},
   "outputs": [],
   "source": []
  }
 ],
 "metadata": {
  "kernelspec": {
   "display_name": "Python 3",
   "language": "python",
   "name": "python3"
  },
  "language_info": {
   "codemirror_mode": {
    "name": "ipython",
    "version": 3
   },
   "file_extension": ".py",
   "mimetype": "text/x-python",
   "name": "python",
   "nbconvert_exporter": "python",
   "pygments_lexer": "ipython3",
   "version": "3.6.5"
  }
 },
 "nbformat": 4,
 "nbformat_minor": 2
}
