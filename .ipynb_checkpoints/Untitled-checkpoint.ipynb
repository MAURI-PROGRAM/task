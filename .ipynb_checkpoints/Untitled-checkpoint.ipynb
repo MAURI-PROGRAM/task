{
 "cells": [
  {
   "cell_type": "markdown",
   "metadata": {},
   "source": [
    "### CONTADOR DE LINEAS DE CODIGOS"
   ]
  },
  {
   "cell_type": "code",
   "execution_count": 595,
   "metadata": {},
   "outputs": [],
   "source": [
    "from time import time"
   ]
  },
  {
   "cell_type": "code",
   "execution_count": 604,
   "metadata": {},
   "outputs": [],
   "source": [
    "def empty(linea):\n",
    "    if linea.replace(' ','')=='\\n':\n",
    "        return True\n",
    "    return False"
   ]
  },
  {
   "cell_type": "code",
   "execution_count": 605,
   "metadata": {},
   "outputs": [],
   "source": [
    "def comentarios(linea,siguiente):\n",
    "    comillas = '\"\"\"'\n",
    "    inicomillas = linea.replace(' ','')[0:3]\n",
    "    fincomillas = linea.replace(' ','')[3:][-4:-1]\n",
    "    if siguiente:\n",
    "        if comillas in linea:\n",
    "            return True,False\n",
    "        return True,True\n",
    "    if linea.replace(' ','')[0]=='#':\n",
    "        return True,False\n",
    "    if  inicomillas == comillas and not siguiente:\n",
    "        if fincomillas == comillas:\n",
    "            return True,False\n",
    "        return True,True\n",
    "    return False,False"
   ]
  },
  {
   "cell_type": "code",
   "execution_count": 606,
   "metadata": {},
   "outputs": [],
   "source": [
    "def librerias(linea):\n",
    "    wordImport= 'import'\n",
    "    wordFrom= 'from'\n",
    "    noelement={'import', 'from', ''}\n",
    "    inFrom=(wordFrom in linea)\n",
    "    if inFrom:\n",
    "        arrlibr = linea[:linea.index('import')].split(' ')\n",
    "        return set(arrlibr)-noelement\n",
    "    inImport=(wordImport in linea)\n",
    "    if inImport:\n",
    "        arrlibr =  linea[:-1].split(' ')\n",
    "        return set(arrlibr)-noelement"
   ]
  },
  {
   "cell_type": "code",
   "execution_count": 680,
   "metadata": {},
   "outputs": [],
   "source": [
    "def countDef(linea):\n",
    "    wordDef='def'\n",
    "    wordEnd=':'\n",
    "    if wordDef in linea and wordEnd in linea:\n",
    "        argini=linea.find(\"(\")+1\n",
    "        argend=linea.find(\")\")\n",
    "        arg=linea[argini:argend].split(',')\n",
    "        return len(arg)  "
   ]
  },
  {
   "cell_type": "code",
   "execution_count": 692,
   "metadata": {},
   "outputs": [
    {
     "name": "stdout",
     "output_type": "stream",
     "text": [
      "80\n",
      "{'decimal', 'collections', 'optparse', 'sys', 'math'}\n",
      "[1, 2]\n",
      "0.003986358642578125\n"
     ]
    }
   ],
   "source": [
    "start_time = time()\n",
    "fichero = open('bar_chart.py', 'r')\n",
    "lineas=fichero.readlines()\n",
    "cont=0\n",
    "lincont=0\n",
    "siguiente=False\n",
    "setlibrerias=set()\n",
    "arguments=[]\n",
    "for linea in lineas:\n",
    "    lincont=lincont+1\n",
    "    if empty(linea):\n",
    "        continue\n",
    "    comentario,siguiente=comentarios(linea,siguiente)\n",
    "    if comentario or siguiente:\n",
    "        continue\n",
    "    cont=cont+1\n",
    "    if librerias(linea):\n",
    "        setlibrerias =setlibrerias| librerias(linea)\n",
    "        continue\n",
    "    if countDef(linea):\n",
    "        arguments.append(countDef(linea))        \n",
    "        \n",
    "print(cont)\n",
    "print(setlibrerias)\n",
    "print(arguments)\n",
    "fichero.close()\n",
    "elapsed_time = time() - start_time\n",
    "print(elapsed_time)"
   ]
  },
  {
   "cell_type": "code",
   "execution_count": null,
   "metadata": {},
   "outputs": [],
   "source": []
  }
 ],
 "metadata": {
  "kernelspec": {
   "display_name": "Python 3",
   "language": "python",
   "name": "python3"
  },
  "language_info": {
   "codemirror_mode": {
    "name": "ipython",
    "version": 3
   },
   "file_extension": ".py",
   "mimetype": "text/x-python",
   "name": "python",
   "nbconvert_exporter": "python",
   "pygments_lexer": "ipython3",
   "version": "3.6.5"
  }
 },
 "nbformat": 4,
 "nbformat_minor": 2
}
