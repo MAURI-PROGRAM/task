{
 "cells": [
  {
   "cell_type": "markdown",
   "metadata": {},
   "source": [
    "### CONTADOR DE LINEAS DE CODIGOS"
   ]
  },
  {
   "cell_type": "code",
   "execution_count": 6,
   "metadata": {},
   "outputs": [],
   "source": [
    "from time import time"
   ]
  },
  {
   "cell_type": "code",
   "execution_count": 1,
   "metadata": {},
   "outputs": [],
   "source": [
    "def empty(linea):\n",
    "    if linea.replace(' ','')=='\\n':\n",
    "        return True\n",
    "    return False"
   ]
  },
  {
   "cell_type": "code",
   "execution_count": 2,
   "metadata": {},
   "outputs": [],
   "source": [
    "def comentarios(linea,siguiente):\n",
    "    comillas = '\"\"\"'\n",
    "    inicomillas = linea.replace(' ','')[0:3]\n",
    "    fincomillas = linea.replace(' ','')[3:][-4:-1]\n",
    "    if siguiente:\n",
    "        if comillas in linea:\n",
    "            return True,False\n",
    "        return True,True\n",
    "    if linea.replace(' ','')[0]=='#':\n",
    "        return True,False\n",
    "    if  inicomillas == comillas and not siguiente:\n",
    "        if fincomillas == comillas:\n",
    "            return True,False\n",
    "        return True,True\n",
    "    return False,False"
   ]
  },
  {
   "cell_type": "code",
   "execution_count": 185,
   "metadata": {},
   "outputs": [],
   "source": [
    "def librerias(linea):\n",
    "    wordImport= 'import'\n",
    "    wordFrom= 'from'\n",
    "    noelement={'import', 'from', ''}\n",
    "    inFrom=(wordFrom in linea)\n",
    "    if inFrom:\n",
    "        arrlibr = linea[:linea.index('import')].split(' ')\n",
    "        return set(arrlibr)-noelement\n",
    "    inImport=(wordImport in linea)\n",
    "    if inImport:\n",
    "        arrlibr =  linea[:-1].split(' ')\n",
    "        return set(arrlibr)-noelement\n",
    "    return set()"
   ]
  },
  {
   "cell_type": "code",
   "execution_count": 4,
   "metadata": {},
   "outputs": [],
   "source": [
    "def countDef(linea):\n",
    "    wordDef='def'\n",
    "    wordEnd=':'\n",
    "    if wordDef in linea and wordEnd in linea:\n",
    "        argini=linea.find(\"(\")+1\n",
    "        argend=linea.find(\")\")\n",
    "        arg=linea[argini:argend].split(',')\n",
    "        return len(arg)  "
   ]
  },
  {
   "cell_type": "code",
   "execution_count": 150,
   "metadata": {},
   "outputs": [],
   "source": [
    "objrepo_list = []"
   ]
  },
  {
   "cell_type": "code",
   "execution_count": 189,
   "metadata": {},
   "outputs": [
    {
     "name": "stdout",
     "output_type": "stream",
     "text": [
      "80\n",
      "80\n",
      "240\n",
      "480\n"
     ]
    }
   ],
   "source": [
    "for objrepo in objrepo_list:\n",
    "    print(objrepo.getnumLine())"
   ]
  },
  {
   "cell_type": "code",
   "execution_count": 169,
   "metadata": {},
   "outputs": [],
   "source": [
    "newobjRepo = objrepo()"
   ]
  },
  {
   "cell_type": "code",
   "execution_count": 196,
   "metadata": {},
   "outputs": [
    {
     "name": "stdout",
     "output_type": "stream",
     "text": [
      "#!/usr/bin/env python\n",
      "\n",
      "#!/usr/bin/env python\n",
      "\n",
      "# -*- coding: utf-8 -*-\n",
      "\n",
      "# -*- coding: utf-8 -*-\n",
      "\n",
      "486\n",
      "set()\n",
      "[]\n",
      "0.0019936561584472656\n"
     ]
    }
   ],
   "source": [
    "start_time = time()\n",
    "fichero = open('bar_chart.py', 'r')\n",
    "lineas=fichero.readlines()\n",
    "cont=0\n",
    "lincont=0\n",
    "siguiente=False\n",
    "setlibrerias=set()\n",
    "arguments=[]\n",
    "for linea in lineas:\n",
    "    lincont=lincont+1\n",
    "    if empty(linea):\n",
    "        continue\n",
    "    comentario,siguiente=comentarios(linea,siguiente)\n",
    "    if comentario or siguiente:\n",
    "        continue\n",
    "    cont=cont+1\n",
    "    if librerias(linea):\n",
    "        setlibrerias =setlibrerias | librerias(linea)\n",
    "        continue\n",
    "    if countDef(linea):\n",
    "        arguments.append(countDef(linea))        \n",
    "newobjRepo.setnumLine(cont)\n",
    "print(newobjRepo.getnumLine())\n",
    "print(setlibrerias)\n",
    "print(arguments)\n",
    "fichero.close()\n",
    "elapsed_time = time() - start_time\n",
    "print(elapsed_time)"
   ]
  },
  {
   "cell_type": "code",
   "execution_count": 190,
   "metadata": {},
   "outputs": [
    {
     "data": {
      "text/plain": [
       "list"
      ]
     },
     "execution_count": 190,
     "metadata": {},
     "output_type": "execute_result"
    }
   ],
   "source": [
    "type(lineas)"
   ]
  },
  {
   "cell_type": "code",
   "execution_count": 175,
   "metadata": {},
   "outputs": [],
   "source": [
    "objrepo_list.append(newobjRepo)"
   ]
  },
  {
   "cell_type": "code",
   "execution_count": 112,
   "metadata": {},
   "outputs": [],
   "source": [
    "def countDepfor(lineas):\n",
    "    \"\"\"retorna: \n",
    "       Bool: si esta dentro de un for\n",
    "       spaceFirst:espacios del for cabeza\n",
    "       spaceLast:el ultimo espacio\n",
    "       dep profundidad\n",
    "       Bool:\"\"\"\n",
    "    wordFor='for'\n",
    "    wordEnd=':'\n",
    "    primercaracter=linea.replace(' ','')[0]\n",
    "    space=linea.index(primercaracter)\n",
    "    patronFor=((wordFor in linea) and (wordEnd in linea))\n",
    "    if isinFor and not patronFor:\n",
    "        if(space<=spaceFirst):\n",
    "            return False,0,0,0,True\n",
    "        return True,spaceFirst,spaceLast,dep,False\n",
    "    if patronFor:\n",
    "        if space==spaceFirst:\n",
    "            return True,space,space,1,True\n",
    "        return True,space,space,1,False\n",
    "    return False,0,0,0,True"
   ]
  },
  {
   "cell_type": "code",
   "execution_count": null,
   "metadata": {},
   "outputs": [],
   "source": [
    "def depFor(lineas):\n",
    "    iter(lineas)\n",
    "    arrDep=[0]\n",
    "    "
   ]
  },
  {
   "cell_type": "code",
   "execution_count": null,
   "metadata": {},
   "outputs": [],
   "source": []
  },
  {
   "cell_type": "code",
   "execution_count": 113,
   "metadata": {},
   "outputs": [
    {
     "name": "stdout",
     "output_type": "stream",
     "text": [
      "(True, 2, 2, 1, True)\n",
      "(True, 3, 3, 1, True)\n",
      "(True, 2, 2, 1, True)\n",
      "(False, 0, 0, 0, False)\n",
      "(False, 0, 0, 0, False)\n",
      "(False, 0, 0, 0, False)\n",
      "(False, 0, 0, 0, False)\n",
      "None\n"
     ]
    }
   ],
   "source": [
    "spaceFirst=0\n",
    "spaceLast=0\n",
    "depFor=0\n",
    "isinFor=False\n",
    "finFor=False\n",
    "deps=[]\n",
    "linea1='  for seg in attr_segs:'\n",
    "linea2='   for sfsd in sdf:'\n",
    "linea3='  for:'\n",
    "linea4=' a'\n",
    "linea5=' a'\n",
    "linea6=' a'\n",
    "linea7=' a'\n",
    "lines=[linea1,linea2,linea3,linea4,linea5,linea6,linea7]\n",
    "for linea in lines:\n",
    "    isinFor,spaceFirst,spaceLast,depFor,finFor=countDepfor(linea,isinFor,spaceFirst,spaceLast,depFor,finFor)\n",
    "    if finFor:\n",
    "        deps=deps.append(depFor)\n",
    "        finFor=False\n",
    "    print(countDepfor(linea,isinFor,spaceFirst,spaceLast,depFor,finFor))\n",
    "print(deps)"
   ]
  },
  {
   "cell_type": "code",
   "execution_count": 184,
   "metadata": {},
   "outputs": [],
   "source": [
    "class objrepo:\n",
    "    numLine=0\n",
    "    setLibrery=set()\n",
    "    numArg=[]\n",
    "    title=''\n",
    "    def __init__(self, title):\n",
    "        self.title=title\n",
    "    def setnumLine(self,num):\n",
    "        self.numLine =num+self.numLine\n",
    "    def setLibrery(self,librery):\n",
    "        self.setLibrery=self.setLibrery|librery\n",
    "    def setnumArg(self,num):\n",
    "        self.numArg=self.numArg.append(num)\n",
    "    def getnumLine(self):\n",
    "        return self.numLine\n",
    "    def getavgarg(self):\n",
    "        self.numArg\n",
    "    def getLibrary(self):\n",
    "        self.setLibrery"
   ]
  },
  {
   "cell_type": "code",
   "execution_count": null,
   "metadata": {},
   "outputs": [],
   "source": []
  },
  {
   "cell_type": "code",
   "execution_count": 96,
   "metadata": {},
   "outputs": [],
   "source": [
    "def ag(attr_segs):\n",
    "    for seg in attr_segs:\n",
    "        if seg[0] <= mouse_x < seg[1]:\n",
    "            attributes = seg[2] if isinstance(seg[2], list) else [seg[2]]\n",
    "            for attr in attributes:\n",
    "                if isinstance(attr, debugger_cli_common.MenuItem):\n",
    "                    return attr.content"
   ]
  },
  {
   "cell_type": "code",
   "execution_count": 86,
   "metadata": {},
   "outputs": [
    {
     "name": "stdout",
     "output_type": "stream",
     "text": [
      "lo\n"
     ]
    }
   ],
   "source": [
    "def sum(a):\n",
    "    for la in a:\n",
    "     print('lo')\n",
    "print('lo')"
   ]
  },
  {
   "cell_type": "code",
   "execution_count": 80,
   "metadata": {},
   "outputs": [],
   "source": [
    "def sum(a):\n",
    "    for b in a:\n",
    "     for c in b:\n",
    "            return c+c        "
   ]
  },
  {
   "cell_type": "code",
   "execution_count": 87,
   "metadata": {},
   "outputs": [
    {
     "name": "stdout",
     "output_type": "stream",
     "text": [
      "lo\n",
      "lo\n",
      "lo\n"
     ]
    }
   ],
   "source": [
    "sum([2,2,3])"
   ]
  }
 ],
 "metadata": {
  "kernelspec": {
   "display_name": "Python 3",
   "language": "python",
   "name": "python3"
  },
  "language_info": {
   "codemirror_mode": {
    "name": "ipython",
    "version": 3
   },
   "file_extension": ".py",
   "mimetype": "text/x-python",
   "name": "python",
   "nbconvert_exporter": "python",
   "pygments_lexer": "ipython3",
   "version": "3.6.5"
  }
 },
 "nbformat": 4,
 "nbformat_minor": 2
}
